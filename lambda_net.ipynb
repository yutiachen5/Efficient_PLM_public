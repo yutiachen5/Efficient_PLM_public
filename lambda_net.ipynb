{
 "cells": [
  {
   "cell_type": "code",
   "execution_count": 1,
   "id": "9dfc61a6-3b4c-4cc3-b46f-1e0bf8aa49b6",
   "metadata": {},
   "outputs": [],
   "source": [
    "import pandas as pd\n",
    "import numpy as np\n",
    "import torch\n",
    "import torch.nn as nn\n",
    "import torch.optim as optim\n",
    "from torch.utils.data import TensorDataset, DataLoader, Dataset\n",
    "from sklearn.metrics import mean_squared_error\n",
    "from sklearn.preprocessing import MinMaxScaler\n",
    "from sklearn.model_selection import train_test_split"
   ]
  },
  {
   "cell_type": "code",
   "execution_count": 2,
   "id": "dd0a0707-2b38-414e-828c-3a71b79f5f36",
   "metadata": {},
   "outputs": [
    {
     "data": {
      "text/plain": [
       "torch.Size([49078, 1024])"
      ]
     },
     "execution_count": 2,
     "metadata": {},
     "output_type": "execute_result"
    }
   ],
   "source": [
    "base = np.load('/hpc/group/naderilab/eleanor/Efficient_PLM/prose/ALLY/saved_emb/save_emb_rd_0_base.npy')\n",
    "base = torch.from_numpy(base)\n",
    "base.shape"
   ]
  },
  {
   "cell_type": "code",
   "execution_count": 3,
   "id": "4cc61e8d-74ea-410b-985f-6c50ece6f7d0",
   "metadata": {},
   "outputs": [
    {
     "data": {
      "text/html": [
       "<div>\n",
       "<style scoped>\n",
       "    .dataframe tbody tr th:only-of-type {\n",
       "        vertical-align: middle;\n",
       "    }\n",
       "\n",
       "    .dataframe tbody tr th {\n",
       "        vertical-align: top;\n",
       "    }\n",
       "\n",
       "    .dataframe thead th {\n",
       "        text-align: right;\n",
       "    }\n",
       "</style>\n",
       "<table border=\"1\" class=\"dataframe\">\n",
       "  <thead>\n",
       "    <tr style=\"text-align: right;\">\n",
       "      <th></th>\n",
       "      <th>lambdas_trained</th>\n",
       "    </tr>\n",
       "  </thead>\n",
       "  <tbody>\n",
       "    <tr>\n",
       "      <th>0</th>\n",
       "      <td>0.016861</td>\n",
       "    </tr>\n",
       "    <tr>\n",
       "      <th>1</th>\n",
       "      <td>0.000000</td>\n",
       "    </tr>\n",
       "    <tr>\n",
       "      <th>2</th>\n",
       "      <td>0.000230</td>\n",
       "    </tr>\n",
       "    <tr>\n",
       "      <th>3</th>\n",
       "      <td>0.004169</td>\n",
       "    </tr>\n",
       "    <tr>\n",
       "      <th>4</th>\n",
       "      <td>0.004474</td>\n",
       "    </tr>\n",
       "    <tr>\n",
       "      <th>...</th>\n",
       "      <td>...</td>\n",
       "    </tr>\n",
       "    <tr>\n",
       "      <th>49073</th>\n",
       "      <td>0.012951</td>\n",
       "    </tr>\n",
       "    <tr>\n",
       "      <th>49074</th>\n",
       "      <td>0.034868</td>\n",
       "    </tr>\n",
       "    <tr>\n",
       "      <th>49075</th>\n",
       "      <td>0.008061</td>\n",
       "    </tr>\n",
       "    <tr>\n",
       "      <th>49076</th>\n",
       "      <td>0.002347</td>\n",
       "    </tr>\n",
       "    <tr>\n",
       "      <th>49077</th>\n",
       "      <td>0.005271</td>\n",
       "    </tr>\n",
       "  </tbody>\n",
       "</table>\n",
       "<p>49078 rows × 1 columns</p>\n",
       "</div>"
      ],
      "text/plain": [
       "       lambdas_trained\n",
       "0             0.016861\n",
       "1             0.000000\n",
       "2             0.000230\n",
       "3             0.004169\n",
       "4             0.004474\n",
       "...                ...\n",
       "49073         0.012951\n",
       "49074         0.034868\n",
       "49075         0.008061\n",
       "49076         0.002347\n",
       "49077         0.005271\n",
       "\n",
       "[49078 rows x 1 columns]"
      ]
     },
     "execution_count": 3,
     "metadata": {},
     "output_type": "execute_result"
    }
   ],
   "source": [
    "base_lambdas = pd.read_csv('/hpc/group/naderilab/eleanor/Efficient_PLM/prose/ALLY/saved_emb/save_emb_rd_0_base.csv')\n",
    "base_lambdas "
   ]
  },
  {
   "cell_type": "code",
   "execution_count": 4,
   "id": "7b653ddb-2c45-4ae9-a56b-bdcc11bce7e1",
   "metadata": {},
   "outputs": [],
   "source": [
    "class lambdaset(Dataset):\n",
    "    def __init__(self, X_train, X_test, y_train, y_test, train=True):\n",
    "\n",
    "        if train:\n",
    "            self.x_data, self.y_data = X_train, y_train\n",
    "        else:\n",
    "            self.x_data, self.y_data = X_test, y_test\n",
    "    \n",
    "    def __getitem__(self, i):\n",
    "        return self.x_data[i], self.y_data[i], i\n",
    "\n",
    "    def __len__(self):\n",
    "        return self.y_data.shape[0]"
   ]
  },
  {
   "cell_type": "code",
   "execution_count": 5,
   "id": "1a8c053b-5e2b-42c0-9754-6c1dd4a9c7bf",
   "metadata": {},
   "outputs": [],
   "source": [
    "class ResidualMLP(nn.Module):\n",
    "    def __init__(self, input_dim):\n",
    "        super().__init__()\n",
    "        self.block1 = nn.Sequential(\n",
    "            nn.Linear(input_dim, 512),\n",
    "            nn.ReLU(),\n",
    "        )\n",
    "        self.block2 = nn.Sequential(\n",
    "            nn.Linear(512, 512),\n",
    "            nn.ReLU(),\n",
    "        )\n",
    "        self.out = nn.Sequential(\n",
    "            nn.Linear(512, 1),\n",
    "            nn.Softplus()\n",
    "        )\n",
    "\n",
    "    def forward(self, x):\n",
    "        x = self.block1(x)\n",
    "        res = x\n",
    "        x = self.block2(x)\n",
    "        x = x + res  # residual connection\n",
    "        return self.out(x)"
   ]
  },
  {
   "cell_type": "code",
   "execution_count": 6,
   "id": "a2130898-8873-4adb-9b8c-1e6a570851bc",
   "metadata": {},
   "outputs": [],
   "source": [
    "# Regression model\n",
    "class RegressionHead(nn.Module):\n",
    "    def __init__(self, input_dim):\n",
    "        super().__init__()\n",
    "        self.model = nn.Sequential(\n",
    "            nn.Linear(input_dim, 64),\n",
    "            nn.LeakyReLU(),\n",
    "\n",
    "            nn.Linear(64, 32),\n",
    "            nn.LeakyReLU(),\n",
    "\n",
    "            nn.Linear(32, 16),\n",
    "            nn.LeakyReLU(),\n",
    "\n",
    "            nn.Linear(16, 1),\n",
    "            nn.Softplus()  # Output remains positive, smooth version of ReLU\n",
    "        )\n",
    "    \n",
    "    def forward(self, x):\n",
    "        return self.model(x)"
   ]
  },
  {
   "cell_type": "code",
   "execution_count": 7,
   "id": "4eabbd9f-be30-4eb0-89ca-2afe83103779",
   "metadata": {},
   "outputs": [],
   "source": [
    "# Regression model\n",
    "class RegressionHead(nn.Module):\n",
    "    def __init__(self, input_dim):\n",
    "        super().__init__()\n",
    "        self.model = nn.Sequential(\n",
    "            nn.Linear(input_dim, 256),\n",
    "            nn.LeakyReLU(),\n",
    "\n",
    "            nn.Linear(256, 16),\n",
    "            nn.LeakyReLU(),\n",
    "\n",
    "            nn.Linear(16, 1),\n",
    "            nn.Softplus()  \n",
    "        )\n",
    "    \n",
    "    def forward(self, x):\n",
    "        return self.model(x)"
   ]
  },
  {
   "cell_type": "code",
   "execution_count": 8,
   "id": "0992bab2-9b3f-4b92-9416-2e73f03ea48a",
   "metadata": {},
   "outputs": [],
   "source": [
    "class ConvLambdaNet(nn.Module):\n",
    "    def __init__(self, input_dim):\n",
    "        super().__init__()\n",
    "        self.conv = nn.Sequential(\n",
    "            nn.Conv1d(1, 16, kernel_size=3, padding=1),\n",
    "            nn.ReLU(),\n",
    "            nn.Conv1d(16, 32, kernel_size=3, padding=1),\n",
    "            nn.ReLU()\n",
    "        )\n",
    "        self.fc = nn.Sequential(\n",
    "            nn.Flatten(),\n",
    "            nn.Linear(input_dim * 32, 1),\n",
    "            nn.Softplus()\n",
    "        )\n",
    "\n",
    "    def forward(self, x):\n",
    "        x = x.unsqueeze(1)  # add channel dim\n",
    "        x = self.conv(x)\n",
    "        return self.fc(x)\n"
   ]
  },
  {
   "cell_type": "code",
   "execution_count": 9,
   "id": "8eeb1f01-db61-4d80-8034-5105c5733d86",
   "metadata": {},
   "outputs": [
    {
     "name": "stdout",
     "output_type": "stream",
     "text": [
      "Epoch 1 | Loss: 0.009060 | test MSE: 0.005931\n",
      "Epoch 11 | Loss: 0.005850 | test MSE: 0.005759\n",
      "Epoch 21 | Loss: 0.005774 | test MSE: 0.005643\n",
      "Epoch 31 | Loss: 0.005680 | test MSE: 0.005543\n",
      "Epoch 41 | Loss: 0.005607 | test MSE: 0.005593\n",
      "Epoch 51 | Loss: 0.005547 | test MSE: 0.005436\n",
      "Epoch 61 | Loss: 0.005505 | test MSE: 0.005375\n",
      "Epoch 71 | Loss: 0.005481 | test MSE: 0.005408\n",
      "Epoch 81 | Loss: 0.005480 | test MSE: 0.005369\n",
      "Epoch 91 | Loss: 0.005455 | test MSE: 0.005356\n"
     ]
    }
   ],
   "source": [
    "# Dataset and loader\n",
    "X = base\n",
    "y = torch.tensor(base_lambdas.values, dtype=torch.float32)\n",
    "\n",
    "X_train, X_test, y_train, y_test = train_test_split(X, y, test_size=0.2, random_state=42)\n",
    "scaler = MinMaxScaler()\n",
    "y_train = scaler.fit_transform(y_train.reshape(-1, 1))\n",
    "\n",
    "train_loader = DataLoader(lambdaset(X_train, X_test, y_train, y_test), batch_size=128, shuffle=True, drop_last=True)\n",
    "\n",
    "\n",
    "model = RegressionHead(input_dim=1024)\n",
    "\n",
    "# Loss and optimizer\n",
    "criterion = nn.MSELoss()\n",
    "optimizer = optim.Adam(model.parameters(), lr=1e-3) \n",
    "scheduler = optim.lr_scheduler.StepLR(optimizer, step_size = 1, gamma=0.95)\n",
    "y_test = scaler.transform(y_test)\n",
    "\n",
    "# train and validation mse per batch\n",
    "train_mse_ls = []\n",
    "val_mse_ls = [] \n",
    "\n",
    "# Training loop\n",
    "for epoch in range(100):\n",
    "    model.train()\n",
    "    total_loss = 0\n",
    "    iterator = iter(train_loader)\n",
    "    mse = []\n",
    "    print_every = 10\n",
    "    for i in range(len(train_loader)):\n",
    "        x, y, i = next(iterator)\n",
    "        optimizer.zero_grad()\n",
    "        preds = model(x).squeeze()\n",
    "        loss = criterion(preds, y.squeeze().float())\n",
    "        loss.backward()\n",
    "        optimizer.step()\n",
    "        \n",
    "        total_loss += loss.item()\n",
    "        mse.append(mean_squared_error(y.squeeze().numpy(), preds.detach().numpy()))\n",
    "    scheduler.step()\n",
    "\n",
    "    batch_loss = total_loss / len(train_loader)\n",
    "    batch_mse = sum(mse) / len(mse)\n",
    "\n",
    "    train_mse_ls.append(batch_mse)\n",
    "        \n",
    "    model.eval()\n",
    "    with torch.no_grad():\n",
    "        y_pred = model(X_test).squeeze().cpu().numpy()\n",
    "        val_mse = mean_squared_error(y_pred, y_test)\n",
    "        val_mse_ls.append(val_mse)\n",
    "        \n",
    "\n",
    "    if epoch % print_every == 0:\n",
    "        print(f\"Epoch {epoch+1} | Loss: {batch_mse:.6f} | test MSE: {val_mse:.6f}\") # mse on transformed scale"
   ]
  },
  {
   "cell_type": "code",
   "execution_count": 10,
   "id": "def103ef-1860-434f-92f4-37e8b164b417",
   "metadata": {},
   "outputs": [
    {
     "data": {
      "image/png": "[encoded data removed]",
      "text/plain": [
       "<Figure size 1000x600 with 1 Axes>"
      ]
     },
     "metadata": {},
     "output_type": "display_data"
    }
   ],
   "source": [
    "import matplotlib.pyplot as plt\n",
    "\n",
    "epochs = range(100)\n",
    "\n",
    "# Create the plot\n",
    "plt.figure(figsize=(10, 6))\n",
    "plt.plot(epochs, train_mse_ls, label='Training MSE')\n",
    "plt.plot(epochs, val_mse_ls, label='Validation MSE')\n",
    "plt.xlabel('Epoch')\n",
    "plt.ylabel('Mean Squared Error (MSE)')\n",
    "plt.ylim(0.0050, 0.0065)\n",
    "plt.title('Training vs Validation MSE - 1st rd')\n",
    "plt.legend()\n",
    "plt.grid(True)\n",
    "plt.show()"
   ]
  },
  {
   "cell_type": "code",
   "execution_count": 11,
   "id": "e16b101b-0e29-4970-aff5-cf14180ef4c8",
   "metadata": {},
   "outputs": [
    {
     "name": "stdout",
     "output_type": "stream",
     "text": [
      "0.008865460269028727\n"
     ]
    }
   ],
   "source": [
    "model.eval()\n",
    "with torch.no_grad():\n",
    "    y_pred = model(X_test).squeeze().cpu().numpy()\n",
    "    y_pred = scaler.inverse_transform(y_pred.reshape(-1, 1))\n",
    "    test_mse = mean_squared_error(y_pred, y_test)\n",
    "    print(test_mse)\n"
   ]
  },
  {
   "cell_type": "code",
   "execution_count": 12,
   "id": "fdf654f7-707e-40c1-9495-83c44b316eea",
   "metadata": {},
   "outputs": [
    {
     "ename": "NameError",
     "evalue": "name 'held' is not defined",
     "output_type": "error",
     "traceback": [
      "\u001b[0;31m---------------------------------------------------------------------------\u001b[0m",
      "\u001b[0;31mNameError\u001b[0m                                 Traceback (most recent call last)",
      "Cell \u001b[0;32mIn[12], line 3\u001b[0m\n\u001b[1;32m      1\u001b[0m model\u001b[38;5;241m.\u001b[39meval()\n\u001b[1;32m      2\u001b[0m \u001b[38;5;28;01mwith\u001b[39;00m torch\u001b[38;5;241m.\u001b[39mno_grad():\n\u001b[0;32m----> 3\u001b[0m     y_pred_held \u001b[38;5;241m=\u001b[39m model(\u001b[43mheld\u001b[49m)\u001b[38;5;241m.\u001b[39msqueeze()\u001b[38;5;241m.\u001b[39mcpu()\u001b[38;5;241m.\u001b[39mnumpy()\n",
      "\u001b[0;31mNameError\u001b[0m: name 'held' is not defined"
     ]
    }
   ],
   "source": [
    "model.eval()\n",
    "with torch.no_grad():\n",
    "    y_pred_held = model(held).squeeze().cpu().numpy()\n"
   ]
  },
  {
   "cell_type": "code",
   "execution_count": null,
   "id": "7eae2c60-ddf8-481b-808b-47de5ef9e543",
   "metadata": {},
   "outputs": [],
   "source": [
    "(len(y_pred_held) - np.count_nonzero(y_pred_held))/len(y_pred_held)"
   ]
  },
  {
   "cell_type": "code",
   "execution_count": null,
   "id": "392ac5ad-aee9-4164-9201-c0d32ff71d36",
   "metadata": {},
   "outputs": [],
   "source": [
    "len(y_pred_held[y_pred_held>0])/len(y_pred_held)"
   ]
  },
  {
   "cell_type": "code",
   "execution_count": null,
   "id": "dbae900a-f9f5-4ac7-928a-8af705c1aae8",
   "metadata": {},
   "outputs": [],
   "source": [
    "sorted(y_pred_held, reverse=True)[:100]"
   ]
  },
  {
   "cell_type": "code",
   "execution_count": null,
   "id": "b2ba8b1b-e285-49d6-9222-914015c4fb82",
   "metadata": {},
   "outputs": [],
   "source": []
  }
 ],
 "metadata": {
  "kernelspec": {
   "display_name": "Python 3 (ipykernel)",
   "language": "python",
   "name": "python3"
  },
  "language_info": {
   "codemirror_mode": {
    "name": "ipython",
    "version": 3
   },
   "file_extension": ".py",
   "mimetype": "text/x-python",
   "name": "python",
   "nbconvert_exporter": "python",
   "pygments_lexer": "ipython3",
   "version": "3.11.10"
  }
 },
 "nbformat": 4,
 "nbformat_minor": 5
}
